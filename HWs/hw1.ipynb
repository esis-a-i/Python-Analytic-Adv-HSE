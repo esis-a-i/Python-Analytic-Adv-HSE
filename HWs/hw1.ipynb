{
  "nbformat": 4,
  "nbformat_minor": 0,
  "metadata": {
    "colab": {
      "provenance": [],
      "include_colab_link": true
    },
    "kernelspec": {
      "name": "python3",
      "display_name": "Python 3"
    },
    "language_info": {
      "name": "python"
    }
  },
  "cells": [
    {
      "cell_type": "markdown",
      "metadata": {
        "id": "view-in-github",
        "colab_type": "text"
      },
      "source": [
        "<a href=\"https://colab.research.google.com/github/esis-a-i/Python-Analytic-Adv-HSE/blob/main/HWs/hw1.ipynb\" target=\"_parent\"><img src=\"https://colab.research.google.com/assets/colab-badge.svg\" alt=\"Open In Colab\"/></a>"
      ]
    },
    {
      "cell_type": "markdown",
      "source": [
        "Первая часть ДЗ находится здесь: https://official.contest.yandex.ru/contest/67840/enter\n",
        "\n",
        "Эта часть будет проверяться полностью вручную.\n",
        "За качество кода баллы могут быть снижены."
      ],
      "metadata": {
        "id": "3l-0ahLPQQd3"
      }
    },
    {
      "cell_type": "markdown",
      "source": [
        "### Задача 1. Декоратор. (15)\n",
        "\n",
        "Напишите декоратор, который будет выполнять функцию трижды, делая между выполнениями перерыв в 2 секунды. После каждого выполнения декоратор должен выводить на экран аргументы функции и результат работы (возвращаемое значение)"
      ],
      "metadata": {
        "id": "Kr8O7js8QdFD"
      }
    },
    {
      "cell_type": "code",
      "source": [
        "from time import sleep"
      ],
      "metadata": {
        "id": "9ZKVS4JGL6rG"
      },
      "execution_count": null,
      "outputs": []
    },
    {
      "cell_type": "code",
      "source": [
        "def sleep_and_run_3_times(func):\n",
        "  def wrapper(*args, **kwargs):\n",
        "    for _ in range(3):\n",
        "      r = func(*args, **kwargs)\n",
        "      print(*args, **kwargs)\n",
        "      print(r)\n",
        "      sleep(2)\n",
        "    return r\n",
        "  return wrapper"
      ],
      "metadata": {
        "id": "8rnqhsSGQfPR"
      },
      "execution_count": null,
      "outputs": []
    },
    {
      "cell_type": "code",
      "source": [
        "@sleep_and_run_3_times\n",
        "def sum_f(a, b):\n",
        "  return a + b"
      ],
      "metadata": {
        "id": "YjeRxT6uNOWq"
      },
      "execution_count": null,
      "outputs": []
    },
    {
      "cell_type": "code",
      "source": [
        "sum_f(1, 2)"
      ],
      "metadata": {
        "colab": {
          "base_uri": "https://localhost:8080/"
        },
        "id": "b0NpMwj-NVOc",
        "outputId": "b40d31a6-49d3-4674-99fd-f09e99952712"
      },
      "execution_count": null,
      "outputs": [
        {
          "output_type": "stream",
          "name": "stdout",
          "text": [
            "1 2\n",
            "3\n",
            "1 2\n",
            "3\n",
            "1 2\n",
            "3\n"
          ]
        },
        {
          "output_type": "execute_result",
          "data": {
            "text/plain": [
              "3"
            ]
          },
          "metadata": {},
          "execution_count": 24
        }
      ]
    },
    {
      "cell_type": "markdown",
      "source": [
        "### Задача 2. Генератор. (20)\n",
        "\n",
        "Напишите генератор, который принимает коллекцию с вложенными итерируемыми объектами, а возвращает каждый элемент последовательно.Если \"распаковать\" все получаемые значения в list, получится \"сплющенный\" список. Например:\n",
        "\n",
        "[[1, 2, 3], [4, [5, 6, [7, 8]]]] -> [1, 2, 3, 4, 5, 6, 7, 8]\n",
        "\n",
        "UPD. Еще пример:\n",
        "[1, 2, 'abc', [2, 4], {'key' : 'value'}]\n",
        "\n",
        "-> [1, 2, 'a', 'b', 'c', 2, 4, 'k', 'e', 'y']"
      ],
      "metadata": {
        "id": "MqYm6QvUSko4"
      }
    },
    {
      "cell_type": "code",
      "source": [
        "from collections.abc import Iterable\n",
        "\n",
        "def flatten(collection):\n",
        "  for obj in collection:\n",
        "    if isinstance(obj, Iterable) and not isinstance(obj, (str, bytes)):\n",
        "      yield from flatten(obj)\n",
        "    elif isinstance(obj, dict):\n",
        "      yield from flatten(obj.keys())\n",
        "      yield from flatten(obj.values())\n",
        "    elif isinstance(obj, str):\n",
        "      yield from obj\n",
        "    else:\n",
        "      yield obj\n",
        "\n",
        "print(list(flatten([[1, 2, 3], [4, [5, 6, [7, 8]]]])))\n",
        "print(list(flatten([1, 2, 'abc', [2, 4], {'key' : 'value'}])))"
      ],
      "metadata": {
        "id": "0jam99w5WHA2",
        "colab": {
          "base_uri": "https://localhost:8080/"
        },
        "outputId": "174a0df1-fb19-48ed-e8f6-0f32f4c5c787"
      },
      "execution_count": null,
      "outputs": [
        {
          "output_type": "stream",
          "name": "stdout",
          "text": [
            "[1, 2, 3, 4, 5, 6, 7, 8]\n",
            "[1, 2, 'a', 'b', 'c', 2, 4, 'k', 'e', 'y']\n"
          ]
        }
      ]
    },
    {
      "cell_type": "markdown",
      "source": [
        "### Задача 3. itertools (15)\n",
        "\n",
        "Модуль itertools представляет много инструментов для работы с итераторами.\n",
        "\n",
        "Ознакомиться с ними можно здесь: https://docs.python.org/3/library/itertools.html\n",
        "\n",
        "Вводится числа через пробел с одной строке. Затем вводится число n.\n",
        "\n",
        "Напишите программу, которая находит все уникальные пары чисел из списка, где сумма каждой пары равна числу n. Можете использовать itertools.\n",
        "\n",
        "Например, списка [1, 2, 3, 4, 5, 6] и n=7 программа должна вывести пары чисел, которые в сумме дают 7: [(1, 6), (2, 5), (3, 4)]."
      ],
      "metadata": {
        "id": "oMq97028UDAG"
      }
    },
    {
      "cell_type": "code",
      "source": [
        "import itertools"
      ],
      "metadata": {
        "id": "VN20gozgWHiy"
      },
      "execution_count": null,
      "outputs": []
    },
    {
      "cell_type": "code",
      "source": [
        "def find_if_sum(collection, n):\n",
        "  m = {}\n",
        "  res = set()\n",
        "  for i in collection:\n",
        "    if n - i in m:\n",
        "      res.add((i, n - i))\n",
        "    m[i] = True\n",
        "  return res"
      ],
      "metadata": {
        "id": "DNgozuUJSyjy"
      },
      "execution_count": null,
      "outputs": []
    },
    {
      "cell_type": "code",
      "source": [
        "find_if_sum([1, 2, 3, 4, 5, 6], 7)"
      ],
      "metadata": {
        "colab": {
          "base_uri": "https://localhost:8080/"
        },
        "id": "pWFkGepUTqLx",
        "outputId": "d782d0ae-fe42-4683-ee41-78873832e972"
      },
      "execution_count": null,
      "outputs": [
        {
          "output_type": "execute_result",
          "data": {
            "text/plain": [
              "[(1, 6), (2, 5), (3, 4)]"
            ]
          },
          "metadata": {},
          "execution_count": 41
        }
      ]
    },
    {
      "cell_type": "code",
      "source": [
        "def find_if_sum(collection, n):\n",
        "  return [(v1, v2) for v1, v2 in itertools.combinations(collection, 2) if v1 + v2 == 7]"
      ],
      "metadata": {
        "id": "oQGg-88YUGzG"
      },
      "execution_count": null,
      "outputs": []
    },
    {
      "cell_type": "markdown",
      "source": [
        "## Задача 4.1 Очень функциональное программирование (2).\n",
        "\n",
        "Вводятся числа в одной строке через пробел.\n",
        "\n",
        "Например, '4 2 5 2 5 1'\n",
        "\n",
        "Необходимо найти наименьшее нечетное число. Например, для примера выше это 1.\n",
        "\n",
        "Решение должно занимать ровно одну строку любой длины.\n",
        "\n",
        "Запрещено использовать циклы, условные операторы и list comprehension.\n"
      ],
      "metadata": {
        "id": "_jSc7xl-VCCq"
      }
    },
    {
      "cell_type": "code",
      "source": [
        "min(filter(lambda i: i % 2 != 0, map(int, input().split())))"
      ],
      "metadata": {
        "id": "ido4_rnfWSJa",
        "colab": {
          "base_uri": "https://localhost:8080/"
        },
        "outputId": "c644ed9d-6114-4b5e-f70e-e0813f766e4e"
      },
      "execution_count": null,
      "outputs": [
        {
          "name": "stdout",
          "output_type": "stream",
          "text": [
            "4 2 5 2 5 1\n"
          ]
        },
        {
          "output_type": "execute_result",
          "data": {
            "text/plain": [
              "1"
            ]
          },
          "metadata": {},
          "execution_count": 5
        }
      ]
    },
    {
      "cell_type": "markdown",
      "source": [
        "## Задача 4.2 itertools и очень функциональное программирование (3)."
      ],
      "metadata": {
        "id": "i-CiF6O9WS2q"
      }
    },
    {
      "cell_type": "markdown",
      "source": [
        "Вводится одно число n.\n",
        "\n",
        "Используя модуль itertools, выведите в одной строке через запятую и пробел факториалы чисел от 0 до n.\n",
        "\n",
        "\n",
        "Запрещено использовать циклы, условные операторы и list comprehension.\n",
        "\n",
        "Например, для n = 7 на экран надо вывести:\n",
        "\n",
        "1, 1, 2, 6, 24, 120, 720, 5040"
      ],
      "metadata": {
        "id": "qs75u_OVWjd2"
      }
    },
    {
      "cell_type": "code",
      "source": [
        "from itertools import accumulate, chain"
      ],
      "metadata": {
        "id": "vHzNHv_gXnbP"
      },
      "execution_count": null,
      "outputs": []
    },
    {
      "cell_type": "code",
      "source": [
        "', '.join(map(str, accumulate(chain([1], range(1, int(input()) + 1)), lambda x, y: x * y)))"
      ],
      "metadata": {
        "id": "q1dFCXhOW8ah",
        "colab": {
          "base_uri": "https://localhost:8080/",
          "height": 54
        },
        "outputId": "cf1ff2a2-3e9d-43f1-8477-8bdd5e8b3178"
      },
      "execution_count": null,
      "outputs": [
        {
          "name": "stdout",
          "output_type": "stream",
          "text": [
            "7\n"
          ]
        },
        {
          "output_type": "execute_result",
          "data": {
            "text/plain": [
              "'1, 1, 2, 6, 24, 120, 720, 5040'"
            ],
            "application/vnd.google.colaboratory.intrinsic+json": {
              "type": "string"
            }
          },
          "metadata": {},
          "execution_count": 20
        }
      ]
    }
  ]
}